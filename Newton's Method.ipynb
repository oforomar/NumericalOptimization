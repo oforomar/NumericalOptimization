{
 "cells": [
  {
   "cell_type": "code",
   "execution_count": 17,
   "id": "f1cd89d2",
   "metadata": {},
   "outputs": [],
   "source": [
    "def newton(f, f_dash, x0, tolerance):\n",
    "    x0 = x0\n",
    "    xn = x0 - (f(x0)/f_dash(x0))\n",
    "    while(abs(xn -x0) > tolerance):\n",
    "        x0 = xn\n",
    "        xn = x0 - (f(x0)/f_dash(x0))\n",
    "    return xn"
   ]
  },
  {
   "cell_type": "code",
   "execution_count": 27,
   "id": "5e2ad708",
   "metadata": {},
   "outputs": [],
   "source": [
    "def f(x):\n",
    "    return x**2 - x - 1\n",
    "def f_dash(x):\n",
    "    return 2*x - 1\n",
    "tolerance = 1e-4\n",
    "x0 = 1"
   ]
  },
  {
   "cell_type": "code",
   "execution_count": 28,
   "id": "d1149cf8",
   "metadata": {},
   "outputs": [
    {
     "data": {
      "text/plain": [
       "1.618033988749989"
      ]
     },
     "execution_count": 28,
     "metadata": {},
     "output_type": "execute_result"
    }
   ],
   "source": [
    "newton(f, f_dash, x0, tolerance)"
   ]
  },
  {
   "cell_type": "code",
   "execution_count": 31,
   "id": "c291dc0e",
   "metadata": {},
   "outputs": [],
   "source": [
    "def f(x):\n",
    "    return x**3 - 7*x**2 + 8*x - 3\n",
    "def f_dash(x):\n",
    "    return 3*x**2 - 14*x + 8\n",
    "tolerance = 1e-4\n",
    "x0 = 5"
   ]
  },
  {
   "cell_type": "code",
   "execution_count": 32,
   "id": "d68a0471",
   "metadata": {},
   "outputs": [
    {
     "data": {
      "text/plain": [
       "5.6857795260896316"
      ]
     },
     "execution_count": 32,
     "metadata": {},
     "output_type": "execute_result"
    }
   ],
   "source": [
    "newton(f, f_dash, x0, tolerance)"
   ]
  },
  {
   "cell_type": "code",
   "execution_count": 33,
   "id": "e119bb95",
   "metadata": {},
   "outputs": [],
   "source": [
    "import math\n",
    "def f(x):\n",
    "    return x*math.cos(x) - x**2\n",
    "def f_dash(x):\n",
    "    return math.cos(x) - x*math.sin(x) - 2*x\n",
    "tolerance = 1e-4\n",
    "x0 = 1"
   ]
  },
  {
   "cell_type": "code",
   "execution_count": 34,
   "id": "dd06b3ee",
   "metadata": {},
   "outputs": [
    {
     "data": {
      "text/plain": [
       "0.7390851356007351"
      ]
     },
     "execution_count": 34,
     "metadata": {},
     "output_type": "execute_result"
    }
   ],
   "source": [
    "newton(f, f_dash, x0, tolerance)"
   ]
  },
  {
   "cell_type": "code",
   "execution_count": null,
   "id": "85df79f3",
   "metadata": {},
   "outputs": [],
   "source": []
  }
 ],
 "metadata": {
  "kernelspec": {
   "display_name": "Python 3",
   "language": "python",
   "name": "python3"
  },
  "language_info": {
   "codemirror_mode": {
    "name": "ipython",
    "version": 3
   },
   "file_extension": ".py",
   "mimetype": "text/x-python",
   "name": "python",
   "nbconvert_exporter": "python",
   "pygments_lexer": "ipython3",
   "version": "3.9.4"
  }
 },
 "nbformat": 4,
 "nbformat_minor": 5
}
